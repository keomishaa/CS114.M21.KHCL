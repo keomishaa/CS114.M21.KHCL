{
  "nbformat": 4,
  "nbformat_minor": 0,
  "metadata": {
    "colab": {
      "name": "ReshapeMatrix.ipynb",
      "provenance": [],
      "authorship_tag": "ABX9TyOz4KPhiA///q+Xs84x8aUm",
      "include_colab_link": true
    },
    "kernelspec": {
      "name": "python3",
      "display_name": "Python 3"
    },
    "language_info": {
      "name": "python"
    }
  },
  "cells": [
    {
      "cell_type": "markdown",
      "metadata": {
        "id": "view-in-github",
        "colab_type": "text"
      },
      "source": [
        "<a href=\"https://colab.research.google.com/github/twelcone/CS114.M21.KHCL/blob/twel/Wecode/19520448/Assignment%20%233/ReshapeMatrix.ipynb\" target=\"_parent\"><img src=\"https://colab.research.google.com/assets/colab-badge.svg\" alt=\"Open In Colab\"/></a>"
      ]
    },
    {
      "cell_type": "code",
      "metadata": {
        "id": "rxfHXWLvXpsL"
      },
      "source": [
        "from sys import stdin\n",
        "\n",
        "m , n = [int(i) for i in input().split()]\n",
        "r, c = [int(i) for i in input().split()]\n",
        "\n",
        "if r*c != m*n:\n",
        "    for i in range(m):\n",
        "        q = input()\n",
        "        print(q)\n",
        "else:\n",
        "    arr = []\n",
        "    j =0\n",
        "    for i in range(m):\n",
        "        q = input()\n",
        "        arr += q.split(\" \")\n",
        "        \n",
        "        if (len(arr) > c):\n",
        "            print(*arr[:c])\n",
        "            arr = arr[c:]\n",
        "            j+=1\n",
        "    \n",
        "    for x in range(0, r-j):\n",
        "        print(*arr[x*c:x*c+c])"
      ],
      "execution_count": null,
      "outputs": []
    }
  ]
}