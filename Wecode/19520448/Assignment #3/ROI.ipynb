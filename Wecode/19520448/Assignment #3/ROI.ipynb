{
  "nbformat": 4,
  "nbformat_minor": 0,
  "metadata": {
    "colab": {
      "name": "ROI.ipynb",
      "provenance": [],
      "authorship_tag": "ABX9TyNLlTi49Z5nzmh7J6fxXeyh",
      "include_colab_link": true
    },
    "kernelspec": {
      "name": "python3",
      "display_name": "Python 3"
    },
    "language_info": {
      "name": "python"
    }
  },
  "cells": [
    {
      "cell_type": "markdown",
      "metadata": {
        "id": "view-in-github",
        "colab_type": "text"
      },
      "source": [
        "<a href=\"https://colab.research.google.com/github/twelcone/CS114.M21.KHCL/blob/twel/Wecode/19520448/Assignment%20%233/ROI.ipynb\" target=\"_parent\"><img src=\"https://colab.research.google.com/assets/colab-badge.svg\" alt=\"Open In Colab\"/></a>"
      ]
    },
    {
      "cell_type": "code",
      "metadata": {
        "id": "rmDlRoOqX4Lj"
      },
      "source": [
        "n,m=map(int,input().split())\n",
        "arr=[]\n",
        "\n",
        "for i in range(n):\n",
        "    a1 = list(map(int,input().split()))[:m]\n",
        "    arr.append(a1)\n",
        "\n",
        "t,l,b,r=map(int,input().split())\n",
        "x = [0]*m\n",
        "\n",
        "trai = [0]*l\n",
        "phai = [0]*(m- r-1)\n",
        "\n",
        "for i in range(0, t):\n",
        "    print(*x)\n",
        "\n",
        "for i in range(t,b+1):\n",
        "    print(*(trai + arr[i][l:r+1] + phai))\n",
        "\n",
        "for i in range(b+1,n):\n",
        "    print(*x)"
      ],
      "execution_count": null,
      "outputs": []
    }
  ]
}