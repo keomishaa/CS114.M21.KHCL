{
  "nbformat": 4,
  "nbformat_minor": 0,
  "metadata": {
    "colab": {
      "name": "MergeSortedArr.ipynb",
      "provenance": [],
      "authorship_tag": "ABX9TyPhw3w3PINoiwO/Sqb2wpJ8",
      "include_colab_link": true
    },
    "kernelspec": {
      "name": "python3",
      "display_name": "Python 3"
    },
    "language_info": {
      "name": "python"
    }
  },
  "cells": [
    {
      "cell_type": "markdown",
      "metadata": {
        "id": "view-in-github",
        "colab_type": "text"
      },
      "source": [
        "<a href=\"https://colab.research.google.com/github/twelcone/CS114.M21.KHCL/blob/twel/Wecode/19520448/Assignment%20%233/MergeSortedArr.ipynb\" target=\"_parent\"><img src=\"https://colab.research.google.com/assets/colab-badge.svg\" alt=\"Open In Colab\"/></a>"
      ]
    },
    {
      "cell_type": "code",
      "metadata": {
        "id": "uph_g8KtXO3T"
      },
      "source": [
        "def mergeArrays(A, B, n, m):\n",
        "    arr3 = [None] * (n + m)\n",
        "    i = 0\n",
        "    j = 0\n",
        "    k = 0\n",
        " \n",
        "    while i < n and j < m:\n",
        "        if A[i] < B[j]:\n",
        "            arr3[k] = A[i]\n",
        "            k = k + 1\n",
        "            i = i + 1\n",
        "        else:\n",
        "            arr3[k] = B[j]\n",
        "            k = k + 1\n",
        "            j = j + 1\n",
        "     \n",
        "    while i < n:\n",
        "        arr3[k] = A[i]\n",
        "        k = k + 1\n",
        "        i = i + 1\n",
        " \n",
        "    while j < m:\n",
        "        arr3[k] = B[j]\n",
        "        k = k + 1\n",
        "        j = j + 1\n",
        "    \n",
        "    for i in range(n + m):\n",
        "        print(str(arr3[i]), end = \" \")\n",
        "\n",
        "n ,m = map(int,input().split())\n",
        "A = list(map(int,input().split()))[:n]\n",
        "B = list(map(int,input().split()))[:m]\n",
        "mergeArrays(A,B,n,m)"
      ],
      "execution_count": null,
      "outputs": []
    }
  ]
}