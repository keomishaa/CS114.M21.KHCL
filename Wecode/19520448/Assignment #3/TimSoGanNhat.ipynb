{
  "nbformat": 4,
  "nbformat_minor": 0,
  "metadata": {
    "colab": {
      "name": "TimSoGanNhat.ipynb",
      "provenance": [],
      "authorship_tag": "ABX9TyOZIjcERz1+ZBnR72Sqim9f",
      "include_colab_link": true
    },
    "kernelspec": {
      "name": "python3",
      "display_name": "Python 3"
    },
    "language_info": {
      "name": "python"
    }
  },
  "cells": [
    {
      "cell_type": "markdown",
      "metadata": {
        "id": "view-in-github",
        "colab_type": "text"
      },
      "source": [
        "<a href=\"https://colab.research.google.com/github/twelcone/CS114.M21.KHCL/blob/twel/Wecode/19520448/Assignment%20%233/TimSoGanNhat.ipynb\" target=\"_parent\"><img src=\"https://colab.research.google.com/assets/colab-badge.svg\" alt=\"Open In Colab\"/></a>"
      ]
    },
    {
      "cell_type": "code",
      "metadata": {
        "id": "25rn-qZYY4Hl"
      },
      "source": [
        "from sys import stdin, stdout\n",
        "import bisect\n",
        "\n",
        "n = int(stdin.readline())\n",
        "a = list([int(x) for x in stdin.readline().split()])\n",
        "k, x = [int(x) for x in stdin.readline().split()]\n",
        "\n",
        "def findNums(a, k, x):\n",
        "    i = bisect.bisect_left(a, x)\n",
        "    left, right = i-1, i\n",
        "    while k:\n",
        "        if right >= len(a) or (left >= 0 and x-a[left] <= a[right]-x):\n",
        "            left -= 1\n",
        "        else:\n",
        "            right += 1\n",
        "        k -= 1\n",
        "    return a[left+1:right]\n",
        "\n",
        "result = findNums(a, k, x)\n",
        "\n",
        "stdout.write(\" \".join(str(x) for x in result))"
      ],
      "execution_count": null,
      "outputs": []
    }
  ]
}