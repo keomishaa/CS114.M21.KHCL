{
  "nbformat": 4,
  "nbformat_minor": 0,
  "metadata": {
    "colab": {
      "name": "OnlineGame2.ipynb",
      "provenance": [],
      "authorship_tag": "ABX9TyPNhC3K7Rawp8WCPzDVruTt",
      "include_colab_link": true
    },
    "kernelspec": {
      "name": "python3",
      "display_name": "Python 3"
    },
    "language_info": {
      "name": "python"
    }
  },
  "cells": [
    {
      "cell_type": "markdown",
      "metadata": {
        "id": "view-in-github",
        "colab_type": "text"
      },
      "source": [
        "<a href=\"https://colab.research.google.com/github/twelcone/CS114.M21.KHCL/blob/twel/Wecode/19520448/Assignment%20%233/OnlineGame2.ipynb\" target=\"_parent\"><img src=\"https://colab.research.google.com/assets/colab-badge.svg\" alt=\"Open In Colab\"/></a>"
      ]
    },
    {
      "cell_type": "code",
      "metadata": {
        "id": "OlvDc8tgYgs6"
      },
      "source": [
        "from sys import stdin\n",
        "A=set()\n",
        "while True:\n",
        "    a = [int(i) for i in stdin.readline().split()]\n",
        "    if len(a) == 0:\n",
        "        continue\n",
        "\n",
        "    x = a[0]    \n",
        "    if x == 0:\n",
        "        break\n",
        "    elif x == 1:\n",
        "        A.add(a[1])\n",
        "    elif x==2:\n",
        "        print(int(a[1] in A))\n",
        "    else:    \n",
        "        A.discard(a[1])"
      ],
      "execution_count": null,
      "outputs": []
    }
  ]
}