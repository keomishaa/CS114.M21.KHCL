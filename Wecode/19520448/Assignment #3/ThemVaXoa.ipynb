{
  "nbformat": 4,
  "nbformat_minor": 0,
  "metadata": {
    "colab": {
      "name": "ThemVaXoa.ipynb",
      "provenance": [],
      "authorship_tag": "ABX9TyNfcbdkDPy9awBp7zRW5t8d",
      "include_colab_link": true
    },
    "kernelspec": {
      "name": "python3",
      "display_name": "Python 3"
    },
    "language_info": {
      "name": "python"
    }
  },
  "cells": [
    {
      "cell_type": "markdown",
      "metadata": {
        "id": "view-in-github",
        "colab_type": "text"
      },
      "source": [
        "<a href=\"https://colab.research.google.com/github/twelcone/CS114.M21.KHCL/blob/twel/Wecode/19520448/Assignment%20%233/ThemVaXoa.ipynb\" target=\"_parent\"><img src=\"https://colab.research.google.com/assets/colab-badge.svg\" alt=\"Open In Colab\"/></a>"
      ]
    },
    {
      "cell_type": "code",
      "metadata": {
        "colab": {
          "base_uri": "https://localhost:8080/",
          "height": 229
        },
        "id": "dRdl-W6aQGIE",
        "outputId": "b74d4461-47af-4665-85c4-4214817cc7e5"
      },
      "source": [
        "from collections import deque\n",
        "from sys import stdin, stdout\n",
        "\n",
        "array = deque()\n",
        "\n",
        "while (True):\n",
        "    nhap = [int(i) for i in stdin.readline().split()]\n",
        "    if nhap[0] == 6:\n",
        "        break\n",
        "    elif nhap[0] == 5:\n",
        "        if array:\n",
        "            array.popleft()\n",
        "    elif nhap[0] == 0:\n",
        "        array.appendleft(nhap[1])\n",
        "    elif nhap[0] == 1:\n",
        "        array.append(nhap[1])\n",
        "    elif nhap[0] == 3 and nhap[1] in array:\n",
        "        array.remove(nhap[1])\n",
        "    elif nhap[0] == 4:\n",
        "        temp = array.copy()\n",
        "        index = 0\n",
        "        for i in temp:\n",
        "            if i == nhap[1]:\n",
        "                del array[index]\n",
        "                index -= 1\n",
        "            index += 1\n",
        "    elif nhap[0] == 2 and nhap[1] in array:\n",
        "        pos = array.index(nhap[1]) + 1\n",
        "        array.insert(pos, nhap[2])\n",
        "    elif nhap[0] == 2:\n",
        "        array.appendleft(nhap[2])\n",
        "if array:\n",
        "    print(*array, sep = ' ')\n",
        "else:\n",
        "    print('blank')"
      ],
      "execution_count": 9,
      "outputs": [
        {
          "output_type": "error",
          "ename": "IndexError",
          "evalue": "ignored",
          "traceback": [
            "\u001b[0;31m---------------------------------------------------------------------------\u001b[0m",
            "\u001b[0;31mIndexError\u001b[0m                                Traceback (most recent call last)",
            "\u001b[0;32m<ipython-input-9-56571974dce3>\u001b[0m in \u001b[0;36m<module>\u001b[0;34m()\u001b[0m\n\u001b[1;32m      6\u001b[0m \u001b[0;32mwhile\u001b[0m \u001b[0;34m(\u001b[0m\u001b[0;32mTrue\u001b[0m\u001b[0;34m)\u001b[0m\u001b[0;34m:\u001b[0m\u001b[0;34m\u001b[0m\u001b[0;34m\u001b[0m\u001b[0m\n\u001b[1;32m      7\u001b[0m     \u001b[0mnhap\u001b[0m \u001b[0;34m=\u001b[0m \u001b[0;34m[\u001b[0m\u001b[0mint\u001b[0m\u001b[0;34m(\u001b[0m\u001b[0mi\u001b[0m\u001b[0;34m)\u001b[0m \u001b[0;32mfor\u001b[0m \u001b[0mi\u001b[0m \u001b[0;32min\u001b[0m \u001b[0mstdin\u001b[0m\u001b[0;34m.\u001b[0m\u001b[0mreadline\u001b[0m\u001b[0;34m(\u001b[0m\u001b[0;34m)\u001b[0m\u001b[0;34m.\u001b[0m\u001b[0msplit\u001b[0m\u001b[0;34m(\u001b[0m\u001b[0;34m)\u001b[0m\u001b[0;34m]\u001b[0m\u001b[0;34m\u001b[0m\u001b[0;34m\u001b[0m\u001b[0m\n\u001b[0;32m----> 8\u001b[0;31m     \u001b[0;32mif\u001b[0m \u001b[0mnhap\u001b[0m\u001b[0;34m[\u001b[0m\u001b[0;36m0\u001b[0m\u001b[0;34m]\u001b[0m \u001b[0;34m==\u001b[0m \u001b[0;36m6\u001b[0m\u001b[0;34m:\u001b[0m\u001b[0;34m\u001b[0m\u001b[0;34m\u001b[0m\u001b[0m\n\u001b[0m\u001b[1;32m      9\u001b[0m         \u001b[0;32mbreak\u001b[0m\u001b[0;34m\u001b[0m\u001b[0;34m\u001b[0m\u001b[0m\n\u001b[1;32m     10\u001b[0m     \u001b[0;32melif\u001b[0m \u001b[0mnhap\u001b[0m\u001b[0;34m[\u001b[0m\u001b[0;36m0\u001b[0m\u001b[0;34m]\u001b[0m \u001b[0;34m==\u001b[0m \u001b[0;36m5\u001b[0m\u001b[0;34m:\u001b[0m\u001b[0;34m\u001b[0m\u001b[0;34m\u001b[0m\u001b[0m\n",
            "\u001b[0;31mIndexError\u001b[0m: list index out of range"
          ]
        }
      ]
    }
  ]
}