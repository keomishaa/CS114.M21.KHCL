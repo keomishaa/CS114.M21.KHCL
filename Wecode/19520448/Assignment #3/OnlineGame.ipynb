{
  "nbformat": 4,
  "nbformat_minor": 0,
  "metadata": {
    "colab": {
      "name": "OnlineGame.ipynb",
      "provenance": [],
      "authorship_tag": "ABX9TyMlBylyEu26qpY1LEN0sbV9",
      "include_colab_link": true
    },
    "kernelspec": {
      "name": "python3",
      "display_name": "Python 3"
    },
    "language_info": {
      "name": "python"
    }
  },
  "cells": [
    {
      "cell_type": "markdown",
      "metadata": {
        "id": "view-in-github",
        "colab_type": "text"
      },
      "source": [
        "<a href=\"https://colab.research.google.com/github/twelcone/CS114.M21.KHCL/blob/twel/Wecode/19520448/Assignment%20%233/OnlineGame.ipynb\" target=\"_parent\"><img src=\"https://colab.research.google.com/assets/colab-badge.svg\" alt=\"Open In Colab\"/></a>"
      ]
    },
    {
      "cell_type": "code",
      "metadata": {
        "id": "Vt751WAuYI5K"
      },
      "source": [
        "A={}\n",
        "while True:\n",
        "    x=list(map(int,input().split()))\n",
        "    if x[0]==1: \n",
        "        A.update({x[-1]:x[0]})\n",
        "    elif x[0]==0:\n",
        "        break\n",
        "    else:\n",
        "        try:\n",
        "            A[x[-1]]\n",
        "        except KeyError:\n",
        "            print(\"0\")\n",
        "        else:\n",
        "            print(\"1\")"
      ],
      "execution_count": null,
      "outputs": []
    }
  ]
}