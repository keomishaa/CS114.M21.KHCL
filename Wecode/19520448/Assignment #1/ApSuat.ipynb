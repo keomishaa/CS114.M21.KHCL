{
  "nbformat": 4,
  "nbformat_minor": 0,
  "metadata": {
    "colab": {
      "name": "ApSuat.ipynb",
      "provenance": [],
      "authorship_tag": "ABX9TyNZ9VKIc8WTWYxPnaqgkLTi",
      "include_colab_link": true
    },
    "kernelspec": {
      "name": "python3",
      "display_name": "Python 3"
    },
    "language_info": {
      "name": "python"
    }
  },
  "cells": [
    {
      "cell_type": "markdown",
      "metadata": {
        "id": "view-in-github",
        "colab_type": "text"
      },
      "source": [
        "<a href=\"https://colab.research.google.com/github/twelcone/CS114.M21.KHCL/blob/twel/Wecode/19520448/Assignment%20%231/ApSuat.ipynb\" target=\"_parent\"><img src=\"https://colab.research.google.com/assets/colab-badge.svg\" alt=\"Open In Colab\"/></a>"
      ]
    },
    {
      "cell_type": "code",
      "metadata": {
        "id": "qjZhJ857rtvh"
      },
      "source": [
        "n = float(input())\n",
        "k = (n * (0.453592/2.54**2))\n",
        "x = 0\n",
        "while (k>1):\n",
        "  k = k/10\n",
        "  x = x + 1\n",
        "print('%g'%(round((n * (0.453592/2.54**2)), 6 - x)))"
      ],
      "execution_count": null,
      "outputs": []
    }
  ]
}