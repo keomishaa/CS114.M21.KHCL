{
  "nbformat": 4,
  "nbformat_minor": 0,
  "metadata": {
    "colab": {
      "name": "TamGiac.ipynb",
      "provenance": [],
      "authorship_tag": "ABX9TyO2Hq16Ee3be6DXcu+oZCEV",
      "include_colab_link": true
    },
    "kernelspec": {
      "name": "python3",
      "display_name": "Python 3"
    },
    "language_info": {
      "name": "python"
    }
  },
  "cells": [
    {
      "cell_type": "markdown",
      "metadata": {
        "id": "view-in-github",
        "colab_type": "text"
      },
      "source": [
        "<a href=\"https://colab.research.google.com/github/twelcone/CS114.M21.KHCL/blob/twel/Wecode/19520448/Assignment%20%231/TamGiac.ipynb\" target=\"_parent\"><img src=\"https://colab.research.google.com/assets/colab-badge.svg\" alt=\"Open In Colab\"/></a>"
      ]
    },
    {
      "cell_type": "code",
      "metadata": {
        "id": "qNEw_evzrjLx"
      },
      "source": [
        "import math\n",
        "\n",
        "a = float(input())\n",
        "b = float(input())\n",
        "c = float(input())\n",
        "\n",
        "def DienTich(a,b,c):\n",
        "  p = (a + b + c)/2\n",
        "  S = math.sqrt(p*(p - a)*(p - b)*(p-c))\n",
        "  return '%g'%(round(S,2))\n",
        "\n",
        "if (a <= 0) or (b <= 0) or (c <= 0):\n",
        "  print('Khong phai tam giac')\n",
        "elif (a + b <= c) or (a + c <= b) or (b + c <=a):\n",
        "  print('Khong phai tam giac')\n",
        "elif (a == b and a == c):\n",
        "  print('Tam giac deu, dien tich =', DienTich(a,b,c))\n",
        "elif (a**2 + b **2 == c**2) or (c**2 + b **2 == a**2) or (a**2 + c **2 == b**2):\n",
        "  print('Tam giac vuong, dien tich =', DienTich(a,b,c))\n",
        "elif (a == b) or (a == c) or (b == c):\n",
        "  print('Tam giac can, dien tich =', DienTich(a,b,c))\n",
        "else:\n",
        "  print('Tam giac thuong, dien tich =', DienTich(a,b,c))"
      ],
      "execution_count": null,
      "outputs": []
    }
  ]
}