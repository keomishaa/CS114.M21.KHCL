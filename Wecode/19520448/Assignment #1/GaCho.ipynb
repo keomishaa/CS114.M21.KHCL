{
  "nbformat": 4,
  "nbformat_minor": 0,
  "metadata": {
    "colab": {
      "name": "GaCho.ipynb",
      "provenance": [],
      "authorship_tag": "ABX9TyPEhDBaIXzysZwPKxdXGog2",
      "include_colab_link": true
    },
    "kernelspec": {
      "name": "python3",
      "display_name": "Python 3"
    },
    "language_info": {
      "name": "python"
    }
  },
  "cells": [
    {
      "cell_type": "markdown",
      "metadata": {
        "id": "view-in-github",
        "colab_type": "text"
      },
      "source": [
        "<a href=\"https://colab.research.google.com/github/twelcone/CS114.M21.KHCL/blob/twel/Wecode/19520448/Assignment%20%231/GaCho.ipynb\" target=\"_parent\"><img src=\"https://colab.research.google.com/assets/colab-badge.svg\" alt=\"Open In Colab\"/></a>"
      ]
    },
    {
      "cell_type": "code",
      "metadata": {
        "id": "wb90TTF4sGuH"
      },
      "source": [
        "A, B = map(int, input().split())\n",
        "print(int((4*A -B)/2), int((B - 2*A)/2))"
      ],
      "execution_count": null,
      "outputs": []
    }
  ]
}