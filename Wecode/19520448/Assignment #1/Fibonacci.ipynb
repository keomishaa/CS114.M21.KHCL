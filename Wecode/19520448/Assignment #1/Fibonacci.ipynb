{
  "nbformat": 4,
  "nbformat_minor": 0,
  "metadata": {
    "colab": {
      "name": "Fibonacci.ipynb",
      "provenance": [],
      "authorship_tag": "ABX9TyNspJMm5f0GbM9oSCPofh7Q",
      "include_colab_link": true
    },
    "kernelspec": {
      "name": "python3",
      "display_name": "Python 3"
    },
    "language_info": {
      "name": "python"
    }
  },
  "cells": [
    {
      "cell_type": "markdown",
      "metadata": {
        "id": "view-in-github",
        "colab_type": "text"
      },
      "source": [
        "<a href=\"https://colab.research.google.com/github/twelcone/CS114.M21.KHCL/blob/twel/Wecode/19520448/Assignment%20%231/Fibonacci.ipynb\" target=\"_parent\"><img src=\"https://colab.research.google.com/assets/colab-badge.svg\" alt=\"Open In Colab\"/></a>"
      ]
    },
    {
      "cell_type": "code",
      "metadata": {
        "id": "Z1q3rif6rUv8"
      },
      "source": [
        "def fibonacci(n):\n",
        "    f0 = 0;\n",
        "    f1 = 1;\n",
        "    fn = 1;\n",
        " \n",
        "    if (n < 0):\n",
        "        return -1;\n",
        "    elif (n == 0 or n == 1):\n",
        "        return n;\n",
        "    else:\n",
        "        for i in range(2, n):\n",
        "            f0 = f1;\n",
        "            f1 = fn;\n",
        "            fn = f0 + f1;\n",
        "        return fn;\n",
        "\n",
        "n = int(input())\n",
        "if (n > 30) or (n < 1):\n",
        "  print('So', n ,'khong nam trong khoang [1,30].')\n",
        "else:\n",
        "  print(fibonacci(n))"
      ],
      "execution_count": null,
      "outputs": []
    }
  ]
}