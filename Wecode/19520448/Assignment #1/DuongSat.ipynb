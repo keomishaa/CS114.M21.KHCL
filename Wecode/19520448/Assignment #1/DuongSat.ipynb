{
  "nbformat": 4,
  "nbformat_minor": 0,
  "metadata": {
    "colab": {
      "name": "DuongSat.ipynb",
      "provenance": [],
      "authorship_tag": "ABX9TyNbPFEx3TQ/MF3F/9ULAMEg",
      "include_colab_link": true
    },
    "kernelspec": {
      "name": "python3",
      "display_name": "Python 3"
    },
    "language_info": {
      "name": "python"
    }
  },
  "cells": [
    {
      "cell_type": "markdown",
      "metadata": {
        "id": "view-in-github",
        "colab_type": "text"
      },
      "source": [
        "<a href=\"https://colab.research.google.com/github/twelcone/CS114.M21.KHCL/blob/twel/Wecode/19520448/Assignment%20%231/DuongSat.ipynb\" target=\"_parent\"><img src=\"https://colab.research.google.com/assets/colab-badge.svg\" alt=\"Open In Colab\"/></a>"
      ]
    },
    {
      "cell_type": "code",
      "metadata": {
        "id": "k8KSUUMAsUcc"
      },
      "source": [
        "k, t = map(int, input().split())\n",
        "if (t//k)%2==0:\n",
        "    print(t%k)\n",
        "else:\n",
        "    print(k-t%k)"
      ],
      "execution_count": null,
      "outputs": []
    }
  ]
}