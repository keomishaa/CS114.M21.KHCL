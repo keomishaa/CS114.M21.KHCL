{
  "nbformat": 4,
  "nbformat_minor": 0,
  "metadata": {
    "colab": {
      "name": "PhatDeBai.ipynb",
      "provenance": [],
      "authorship_tag": "ABX9TyMUQctUKfP1eCAl2cSu+QdK",
      "include_colab_link": true
    },
    "kernelspec": {
      "name": "python3",
      "display_name": "Python 3"
    },
    "language_info": {
      "name": "python"
    }
  },
  "cells": [
    {
      "cell_type": "markdown",
      "metadata": {
        "id": "view-in-github",
        "colab_type": "text"
      },
      "source": [
        "<a href=\"https://colab.research.google.com/github/twelcone/CS114.M21.KHCL/blob/twel/Wecode/19520448/Assignment%20%231/PhatDeBai.ipynb\" target=\"_parent\"><img src=\"https://colab.research.google.com/assets/colab-badge.svg\" alt=\"Open In Colab\"/></a>"
      ]
    },
    {
      "cell_type": "code",
      "metadata": {
        "id": "gyNUF5kFsfBr"
      },
      "source": [
        "n = int(input())\n",
        "k = int(input())\n",
        "A_sohang = int(input())\n",
        "A_vitri = int(input())\n",
        "if k > n:\n",
        "    print(-1)\n",
        "if (k%2==0):\n",
        "  B_vitri=A_vitri\n",
        "else:\n",
        "  if (A_vitri == 1):\n",
        "    B_vitri = 2\n",
        "  elif(A_vitri == 2):\n",
        "    B_vitri = 1\n",
        "B_hang = (A_sohang - 1) * 2 + (A_vitri - 1)\n",
        "if B_hang-k>=0:\n",
        "  print((B_hang-k)//2+1,B_vitri)\n",
        "elif B_hang+k<=n-1:\n",
        "  print((B_hang+k)//2+1,B_vitri)\n",
        "else:\n",
        "  print(-1)"
      ],
      "execution_count": null,
      "outputs": []
    }
  ]
}