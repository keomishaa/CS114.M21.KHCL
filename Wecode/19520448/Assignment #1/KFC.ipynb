{
  "nbformat": 4,
  "nbformat_minor": 0,
  "metadata": {
    "colab": {
      "name": "KFC.ipynb",
      "provenance": [],
      "authorship_tag": "ABX9TyOc0JmRQhUEbE4tFWo7bs1J",
      "include_colab_link": true
    },
    "kernelspec": {
      "name": "python3",
      "display_name": "Python 3"
    },
    "language_info": {
      "name": "python"
    }
  },
  "cells": [
    {
      "cell_type": "markdown",
      "metadata": {
        "id": "view-in-github",
        "colab_type": "text"
      },
      "source": [
        "<a href=\"https://colab.research.google.com/github/twelcone/CS114.M21.KHCL/blob/twel/Wecode/19520448/Assignment%20%231/KFC.ipynb\" target=\"_parent\"><img src=\"https://colab.research.google.com/assets/colab-badge.svg\" alt=\"Open In Colab\"/></a>"
      ]
    },
    {
      "cell_type": "code",
      "metadata": {
        "id": "AbA_1eKir8Ux"
      },
      "source": [
        "F = float(input())\n",
        "C = 5/9*(F - 32)\n",
        "D = C\n",
        "K = C + 273.15\n",
        "E = K\n",
        "\n",
        "x = 0\n",
        "while (D>1):\n",
        "  D = D/10\n",
        "  x = x + 1\n",
        "\n",
        "y = 0\n",
        "while (E>1):\n",
        "  E = E/10\n",
        "  y = y + 1\n",
        "\n",
        "print('%g'%(round(C,6 - x)), '%g'%(round(K,6 - y)))"
      ],
      "execution_count": null,
      "outputs": []
    }
  ]
}