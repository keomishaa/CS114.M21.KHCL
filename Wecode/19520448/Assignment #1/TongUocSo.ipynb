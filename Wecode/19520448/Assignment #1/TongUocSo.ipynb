{
  "nbformat": 4,
  "nbformat_minor": 0,
  "metadata": {
    "colab": {
      "name": "TongUocSo.ipynb",
      "provenance": [],
      "authorship_tag": "ABX9TyM/aT55+s0s5eXXCi80XGly",
      "include_colab_link": true
    },
    "kernelspec": {
      "name": "python3",
      "display_name": "Python 3"
    },
    "language_info": {
      "name": "python"
    }
  },
  "cells": [
    {
      "cell_type": "markdown",
      "metadata": {
        "id": "view-in-github",
        "colab_type": "text"
      },
      "source": [
        "<a href=\"https://colab.research.google.com/github/twelcone/CS114.M21.KHCL/blob/twel/Wecode/19520448/Assignment%20%231/TongUocSo.ipynb\" target=\"_parent\"><img src=\"https://colab.research.google.com/assets/colab-badge.svg\" alt=\"Open In Colab\"/></a>"
      ]
    },
    {
      "cell_type": "code",
      "metadata": {
        "id": "FrDVgYUdqUKc"
      },
      "source": [
        "n = int(input())\n",
        "sum = 0\n",
        "for i in range(1, n):\n",
        "  if (n % i == 0):\n",
        "    sum += i\n",
        "\n",
        "print(sum)"
      ],
      "execution_count": null,
      "outputs": []
    }
  ]
}